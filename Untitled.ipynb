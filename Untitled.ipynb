{
 "cells": [
  {
   "cell_type": "code",
   "execution_count": 1,
   "id": "e1a1c22d-15b6-4b49-8af9-91a4079df8ec",
   "metadata": {},
   "outputs": [],
   "source": [
    "import pandas as pd\n",
    "import matplotlib.pyplot as plt"
   ]
  },
  {
   "cell_type": "code",
   "execution_count": 2,
   "id": "f14f702e-bfe5-4df7-833e-9c71cb8a097a",
   "metadata": {},
   "outputs": [],
   "source": [
    "import joblib"
   ]
  },
  {
   "cell_type": "code",
   "execution_count": 3,
   "id": "e9691f82-697a-4782-831d-9542a1d5ca97",
   "metadata": {},
   "outputs": [],
   "source": [
    "import spacy"
   ]
  },
  {
   "cell_type": "code",
   "execution_count": 4,
   "id": "367d2c2f-b7c0-4f16-a66d-96418bff84b1",
   "metadata": {},
   "outputs": [],
   "source": [
    " df = pd.read_csv('learn-ai-bbc/BBC News Train.csv')"
   ]
  },
  {
   "cell_type": "code",
   "execution_count": 5,
   "id": "d52e50d0-bb82-4035-9b9a-47ddb4b63ef3",
   "metadata": {},
   "outputs": [
    {
     "data": {
      "text/html": [
       "<div>\n",
       "<style scoped>\n",
       "    .dataframe tbody tr th:only-of-type {\n",
       "        vertical-align: middle;\n",
       "    }\n",
       "\n",
       "    .dataframe tbody tr th {\n",
       "        vertical-align: top;\n",
       "    }\n",
       "\n",
       "    .dataframe thead th {\n",
       "        text-align: right;\n",
       "    }\n",
       "</style>\n",
       "<table border=\"1\" class=\"dataframe\">\n",
       "  <thead>\n",
       "    <tr style=\"text-align: right;\">\n",
       "      <th></th>\n",
       "      <th>ArticleId</th>\n",
       "      <th>Text</th>\n",
       "      <th>Category</th>\n",
       "    </tr>\n",
       "  </thead>\n",
       "  <tbody>\n",
       "    <tr>\n",
       "      <th>0</th>\n",
       "      <td>1833</td>\n",
       "      <td>worldcom ex-boss launches defence lawyers defe...</td>\n",
       "      <td>business</td>\n",
       "    </tr>\n",
       "    <tr>\n",
       "      <th>1</th>\n",
       "      <td>154</td>\n",
       "      <td>german business confidence slides german busin...</td>\n",
       "      <td>business</td>\n",
       "    </tr>\n",
       "    <tr>\n",
       "      <th>2</th>\n",
       "      <td>1101</td>\n",
       "      <td>bbc poll indicates economic gloom citizens in ...</td>\n",
       "      <td>business</td>\n",
       "    </tr>\n",
       "    <tr>\n",
       "      <th>3</th>\n",
       "      <td>1976</td>\n",
       "      <td>lifestyle  governs mobile choice  faster  bett...</td>\n",
       "      <td>tech</td>\n",
       "    </tr>\n",
       "    <tr>\n",
       "      <th>4</th>\n",
       "      <td>917</td>\n",
       "      <td>enron bosses in $168m payout eighteen former e...</td>\n",
       "      <td>business</td>\n",
       "    </tr>\n",
       "  </tbody>\n",
       "</table>\n",
       "</div>"
      ],
      "text/plain": [
       "   ArticleId                                               Text  Category\n",
       "0       1833  worldcom ex-boss launches defence lawyers defe...  business\n",
       "1        154  german business confidence slides german busin...  business\n",
       "2       1101  bbc poll indicates economic gloom citizens in ...  business\n",
       "3       1976  lifestyle  governs mobile choice  faster  bett...      tech\n",
       "4        917  enron bosses in $168m payout eighteen former e...  business"
      ]
     },
     "execution_count": 5,
     "metadata": {},
     "output_type": "execute_result"
    }
   ],
   "source": [
    "df.head()"
   ]
  },
  {
   "cell_type": "code",
   "execution_count": 46,
   "id": "4757d8e9-d407-4b82-b474-bc9847b8476d",
   "metadata": {},
   "outputs": [],
   "source": [
    "pd.set_option('display.max_colwidth', None)"
   ]
  },
  {
   "cell_type": "code",
   "execution_count": 47,
   "id": "1f62a9f3-34bd-460b-8f73-e0b2e1ac688f",
   "metadata": {},
   "outputs": [
    {
     "data": {
      "text/plain": [
       "5    howard  truanted to play snooker  conservative leader michael howard has admitted he used to play truant to spend time with his school friends at a snooker hall.  mr howard said his time at jack s snooker hall in llanelli in the 1950s had not done him  any lasting damage . but he told the times educational supplement that truancy was  very bad  and said  firm action  was needed. mr howard also called for a return to o-levels and more classroom discipline.  mr howard eventually left llanelli grammar school - and the snooker hall - to go to cambridge university. he said:  i don t think it s done me any lasting damage. nor has it made me a snooker world champion.  there might have been some occasions when we left early of an afternoon.   i m just being honest. i think truancy is a very bad thing and that firm action should be taken to deal with it.  another player who has failed to win snooker s world championship - jimmy  the whirlwind   white - has previously admitted missing lessons  instead spending his days in smoky halls.  tony meo [another player] and me used to spend all of our spare time there   mr white said   we loved the game and the atmosphere.  school went out of the window. i went for a while and then started taking time off.  mr howard s fellow welshman ray reardon - known by his fellow professionals as  dracula  - won the snooker world championship six times  having left school at 14 to work as a miner. and terry griffiths  like mr howard from llanelli  won the tournament in 1979. it is not known whether the two of them ever clashed cues at jack s.\n",
       "Name: Text, dtype: object"
      ]
     },
     "execution_count": 47,
     "metadata": {},
     "output_type": "execute_result"
    }
   ],
   "source": [
    "df['Text'][df.ArticleId==1582]"
   ]
  },
  {
   "cell_type": "code",
   "execution_count": 6,
   "id": "0f50e201-5344-41f1-8230-c3e491202b6b",
   "metadata": {},
   "outputs": [
    {
     "data": {
      "text/plain": [
       "sport            346\n",
       "business         336\n",
       "politics         274\n",
       "entertainment    273\n",
       "tech             261\n",
       "Name: Category, dtype: int64"
      ]
     },
     "execution_count": 6,
     "metadata": {},
     "output_type": "execute_result"
    }
   ],
   "source": [
    "df.Category.value_counts()"
   ]
  },
  {
   "cell_type": "code",
   "execution_count": 7,
   "id": "50f0bfc2-11ad-4fad-9a72-ef11aed439ad",
   "metadata": {},
   "outputs": [],
   "source": [
    "df['Cat']=df['Category'].apply(lambda x: 1 if x=='sport' else 2 if x=='business' else 3 if x=='politics' else 4 if x=='entertainment' else 5 )"
   ]
  },
  {
   "cell_type": "code",
   "execution_count": 8,
   "id": "d5b08f47-50ef-429d-87d8-0efb23d6e748",
   "metadata": {},
   "outputs": [
    {
     "data": {
      "text/html": [
       "<div>\n",
       "<style scoped>\n",
       "    .dataframe tbody tr th:only-of-type {\n",
       "        vertical-align: middle;\n",
       "    }\n",
       "\n",
       "    .dataframe tbody tr th {\n",
       "        vertical-align: top;\n",
       "    }\n",
       "\n",
       "    .dataframe thead th {\n",
       "        text-align: right;\n",
       "    }\n",
       "</style>\n",
       "<table border=\"1\" class=\"dataframe\">\n",
       "  <thead>\n",
       "    <tr style=\"text-align: right;\">\n",
       "      <th></th>\n",
       "      <th>ArticleId</th>\n",
       "      <th>Text</th>\n",
       "      <th>Category</th>\n",
       "      <th>Cat</th>\n",
       "    </tr>\n",
       "  </thead>\n",
       "  <tbody>\n",
       "    <tr>\n",
       "      <th>0</th>\n",
       "      <td>1833</td>\n",
       "      <td>worldcom ex-boss launches defence lawyers defe...</td>\n",
       "      <td>business</td>\n",
       "      <td>2</td>\n",
       "    </tr>\n",
       "    <tr>\n",
       "      <th>1</th>\n",
       "      <td>154</td>\n",
       "      <td>german business confidence slides german busin...</td>\n",
       "      <td>business</td>\n",
       "      <td>2</td>\n",
       "    </tr>\n",
       "    <tr>\n",
       "      <th>2</th>\n",
       "      <td>1101</td>\n",
       "      <td>bbc poll indicates economic gloom citizens in ...</td>\n",
       "      <td>business</td>\n",
       "      <td>2</td>\n",
       "    </tr>\n",
       "    <tr>\n",
       "      <th>3</th>\n",
       "      <td>1976</td>\n",
       "      <td>lifestyle  governs mobile choice  faster  bett...</td>\n",
       "      <td>tech</td>\n",
       "      <td>5</td>\n",
       "    </tr>\n",
       "    <tr>\n",
       "      <th>4</th>\n",
       "      <td>917</td>\n",
       "      <td>enron bosses in $168m payout eighteen former e...</td>\n",
       "      <td>business</td>\n",
       "      <td>2</td>\n",
       "    </tr>\n",
       "  </tbody>\n",
       "</table>\n",
       "</div>"
      ],
      "text/plain": [
       "   ArticleId                                               Text  Category  Cat\n",
       "0       1833  worldcom ex-boss launches defence lawyers defe...  business    2\n",
       "1        154  german business confidence slides german busin...  business    2\n",
       "2       1101  bbc poll indicates economic gloom citizens in ...  business    2\n",
       "3       1976  lifestyle  governs mobile choice  faster  bett...      tech    5\n",
       "4        917  enron bosses in $168m payout eighteen former e...  business    2"
      ]
     },
     "execution_count": 8,
     "metadata": {},
     "output_type": "execute_result"
    }
   ],
   "source": [
    "df.head()"
   ]
  },
  {
   "cell_type": "code",
   "execution_count": 9,
   "id": "5c42320a-a9c7-4736-a61f-dc37587405a5",
   "metadata": {},
   "outputs": [
    {
     "data": {
      "text/html": [
       "<div>\n",
       "<style scoped>\n",
       "    .dataframe tbody tr th:only-of-type {\n",
       "        vertical-align: middle;\n",
       "    }\n",
       "\n",
       "    .dataframe tbody tr th {\n",
       "        vertical-align: top;\n",
       "    }\n",
       "\n",
       "    .dataframe thead th {\n",
       "        text-align: right;\n",
       "    }\n",
       "</style>\n",
       "<table border=\"1\" class=\"dataframe\">\n",
       "  <thead>\n",
       "    <tr style=\"text-align: right;\">\n",
       "      <th></th>\n",
       "      <th>ArticleId</th>\n",
       "      <th>Text</th>\n",
       "      <th>Cat</th>\n",
       "    </tr>\n",
       "  </thead>\n",
       "  <tbody>\n",
       "    <tr>\n",
       "      <th>0</th>\n",
       "      <td>1833</td>\n",
       "      <td>worldcom ex-boss launches defence lawyers defe...</td>\n",
       "      <td>2</td>\n",
       "    </tr>\n",
       "    <tr>\n",
       "      <th>1</th>\n",
       "      <td>154</td>\n",
       "      <td>german business confidence slides german busin...</td>\n",
       "      <td>2</td>\n",
       "    </tr>\n",
       "    <tr>\n",
       "      <th>2</th>\n",
       "      <td>1101</td>\n",
       "      <td>bbc poll indicates economic gloom citizens in ...</td>\n",
       "      <td>2</td>\n",
       "    </tr>\n",
       "    <tr>\n",
       "      <th>3</th>\n",
       "      <td>1976</td>\n",
       "      <td>lifestyle  governs mobile choice  faster  bett...</td>\n",
       "      <td>5</td>\n",
       "    </tr>\n",
       "    <tr>\n",
       "      <th>4</th>\n",
       "      <td>917</td>\n",
       "      <td>enron bosses in $168m payout eighteen former e...</td>\n",
       "      <td>2</td>\n",
       "    </tr>\n",
       "    <tr>\n",
       "      <th>...</th>\n",
       "      <td>...</td>\n",
       "      <td>...</td>\n",
       "      <td>...</td>\n",
       "    </tr>\n",
       "    <tr>\n",
       "      <th>1485</th>\n",
       "      <td>857</td>\n",
       "      <td>double eviction from big brother model caprice...</td>\n",
       "      <td>4</td>\n",
       "    </tr>\n",
       "    <tr>\n",
       "      <th>1486</th>\n",
       "      <td>325</td>\n",
       "      <td>dj double act revamp chart show dj duo jk and ...</td>\n",
       "      <td>4</td>\n",
       "    </tr>\n",
       "    <tr>\n",
       "      <th>1487</th>\n",
       "      <td>1590</td>\n",
       "      <td>weak dollar hits reuters revenues at media gro...</td>\n",
       "      <td>2</td>\n",
       "    </tr>\n",
       "    <tr>\n",
       "      <th>1488</th>\n",
       "      <td>1587</td>\n",
       "      <td>apple ipod family expands market apple has exp...</td>\n",
       "      <td>5</td>\n",
       "    </tr>\n",
       "    <tr>\n",
       "      <th>1489</th>\n",
       "      <td>538</td>\n",
       "      <td>santy worm makes unwelcome visit thousands of ...</td>\n",
       "      <td>5</td>\n",
       "    </tr>\n",
       "  </tbody>\n",
       "</table>\n",
       "<p>1490 rows × 3 columns</p>\n",
       "</div>"
      ],
      "text/plain": [
       "      ArticleId                                               Text  Cat\n",
       "0          1833  worldcom ex-boss launches defence lawyers defe...    2\n",
       "1           154  german business confidence slides german busin...    2\n",
       "2          1101  bbc poll indicates economic gloom citizens in ...    2\n",
       "3          1976  lifestyle  governs mobile choice  faster  bett...    5\n",
       "4           917  enron bosses in $168m payout eighteen former e...    2\n",
       "...         ...                                                ...  ...\n",
       "1485        857  double eviction from big brother model caprice...    4\n",
       "1486        325  dj double act revamp chart show dj duo jk and ...    4\n",
       "1487       1590  weak dollar hits reuters revenues at media gro...    2\n",
       "1488       1587  apple ipod family expands market apple has exp...    5\n",
       "1489        538  santy worm makes unwelcome visit thousands of ...    5\n",
       "\n",
       "[1490 rows x 3 columns]"
      ]
     },
     "execution_count": 9,
     "metadata": {},
     "output_type": "execute_result"
    }
   ],
   "source": [
    "df.drop(['Category'],axis=1)"
   ]
  },
  {
   "cell_type": "code",
   "execution_count": 10,
   "id": "65c95e1f-e27a-4845-b63d-7655d33be8ed",
   "metadata": {},
   "outputs": [],
   "source": [
    "from sklearn.model_selection import train_test_split"
   ]
  },
  {
   "cell_type": "code",
   "execution_count": 11,
   "id": "4423a520-33a7-4076-a448-40a6ad18f5dd",
   "metadata": {},
   "outputs": [],
   "source": [
    "X_train, X_test, Y_train, Y_test = train_test_split(df.Text, df.Cat, test_size=0.3)"
   ]
  },
  {
   "cell_type": "code",
   "execution_count": 12,
   "id": "4d01cdcb-2d20-49dc-b35f-5e962fbfccb3",
   "metadata": {},
   "outputs": [
    {
     "data": {
      "text/plain": [
       "(1043,)"
      ]
     },
     "execution_count": 12,
     "metadata": {},
     "output_type": "execute_result"
    }
   ],
   "source": [
    "X_train.shape"
   ]
  },
  {
   "cell_type": "code",
   "execution_count": null,
   "id": "f34a9502-8750-49cd-ba4b-7b610a8d73f1",
   "metadata": {},
   "outputs": [],
   "source": []
  },
  {
   "cell_type": "code",
   "execution_count": 13,
   "id": "9ec4d043-1185-4725-ba70-f8991ab74da9",
   "metadata": {},
   "outputs": [],
   "source": [
    "from sklearn.feature_extraction.text import CountVectorizer"
   ]
  },
  {
   "cell_type": "code",
   "execution_count": 14,
   "id": "2b6d4bd5-1362-4964-bc2d-7c320cf138ef",
   "metadata": {},
   "outputs": [],
   "source": [
    "v = CountVectorizer()\n",
    "\n",
    "cv=v.fit_transform(X_train.values)"
   ]
  },
  {
   "cell_type": "code",
   "execution_count": 41,
   "id": "1f6434f4-0a7c-4a44-b967-6aef38c80e2d",
   "metadata": {},
   "outputs": [
    {
     "data": {
      "text/plain": [
       "['pre_fitted_vectorizer.pkl']"
      ]
     },
     "execution_count": 41,
     "metadata": {},
     "output_type": "execute_result"
    }
   ],
   "source": [
    "joblib.dump(v, 'pre_fitted_vectorizer.pkl')"
   ]
  },
  {
   "cell_type": "code",
   "execution_count": 15,
   "id": "2f9a1033-e259-44f9-9366-2845be12bd61",
   "metadata": {},
   "outputs": [
    {
     "data": {
      "text/plain": [
       "387     moya fights back for indian title carlos moya ...\n",
       "1192    parker s saxophone heads auction a saxophone b...\n",
       "1291    text message record smashed uk mobile owners c...\n",
       "1289    eminem secret gig venue revealed rapper eminem...\n",
       "491     what now for kelly holmes  last april  kelly h...\n",
       "                              ...                        \n",
       "781     comic morris returns with sitcom comedian chri...\n",
       "1477    web logs aid disaster recovery some of the mos...\n",
       "942     microsoft sets sights on spyware windows users...\n",
       "1137    us peer-to-peer pirates convicted the first co...\n",
       "207     soderling wins tense milan final fifth seed ro...\n",
       "Name: Text, Length: 1043, dtype: object"
      ]
     },
     "execution_count": 15,
     "metadata": {},
     "output_type": "execute_result"
    }
   ],
   "source": [
    "X_train"
   ]
  },
  {
   "cell_type": "code",
   "execution_count": 16,
   "id": "9ac338fc-cb09-4676-9fe6-107fe90e950e",
   "metadata": {},
   "outputs": [
    {
     "data": {
      "text/plain": [
       "<1043x21312 sparse matrix of type '<class 'numpy.int64'>'\n",
       "\twith 210923 stored elements in Compressed Sparse Row format>"
      ]
     },
     "execution_count": 16,
     "metadata": {},
     "output_type": "execute_result"
    }
   ],
   "source": [
    "cv"
   ]
  },
  {
   "cell_type": "code",
   "execution_count": 17,
   "id": "24c7eb37-e25e-4d25-9569-af1d45e5d3cb",
   "metadata": {},
   "outputs": [
    {
     "data": {
      "text/plain": [
       "array([[0, 5, 0, ..., 0, 0, 0],\n",
       "       [0, 3, 0, ..., 0, 0, 0],\n",
       "       [0, 0, 0, ..., 0, 0, 0],\n",
       "       ...,\n",
       "       [0, 0, 0, ..., 0, 0, 0],\n",
       "       [0, 2, 0, ..., 0, 0, 0],\n",
       "       [0, 0, 0, ..., 0, 0, 0]], dtype=int64)"
      ]
     },
     "execution_count": 17,
     "metadata": {},
     "output_type": "execute_result"
    }
   ],
   "source": [
    "cv.toarray()"
   ]
  },
  {
   "cell_type": "code",
   "execution_count": 18,
   "id": "792edcd8-ce40-4762-b8f4-c4d6b32381e6",
   "metadata": {},
   "outputs": [
    {
     "data": {
      "text/plain": [
       "(1043, 21312)"
      ]
     },
     "execution_count": 18,
     "metadata": {},
     "output_type": "execute_result"
    }
   ],
   "source": [
    "cv.shape"
   ]
  },
  {
   "cell_type": "code",
   "execution_count": 19,
   "id": "f02cdaa4-1a0f-4a19-a8c4-fc51c4145409",
   "metadata": {},
   "outputs": [
    {
     "data": {
      "text/plain": [
       "array(['advises', 'advising', 'advisor', 'advisory', 'advocate',\n",
       "       'advocated', 'advocates', 'adware', 'ae', 'aer', 'aeroplane',\n",
       "       'aerospace', 'aesthetics', 'affable', 'affair', 'affairs',\n",
       "       'affect', 'affected', 'affecting', 'affection', 'affectionately',\n",
       "       'affects', 'affiliate', 'affiliates', 'afflicting', 'afford',\n",
       "       'affordable', 'afforded', 'afghanistan'], dtype=object)"
      ]
     },
     "execution_count": 19,
     "metadata": {},
     "output_type": "execute_result"
    }
   ],
   "source": [
    "v.get_feature_names_out()[1300:1329]"
   ]
  },
  {
   "cell_type": "code",
   "execution_count": 20,
   "id": "ce4b289d-40bb-484b-bd23-7b30d981178f",
   "metadata": {},
   "outputs": [
    {
     "data": {
      "text/plain": [
       "MultinomialNB()"
      ]
     },
     "execution_count": 20,
     "metadata": {},
     "output_type": "execute_result"
    }
   ],
   "source": [
    "from sklearn.naive_bayes import MultinomialNB\n",
    "\n",
    "model = MultinomialNB()\n",
    "model.fit(cv, Y_train)"
   ]
  },
  {
   "cell_type": "code",
   "execution_count": 39,
   "id": "ac132983-9ecb-49e8-ac28-c407f71cdb08",
   "metadata": {},
   "outputs": [
    {
     "data": {
      "text/plain": [
       "['model1.pkl']"
      ]
     },
     "execution_count": 39,
     "metadata": {},
     "output_type": "execute_result"
    }
   ],
   "source": [
    "joblib.dump(model,'model1.pkl')"
   ]
  },
  {
   "cell_type": "code",
   "execution_count": 21,
   "id": "fcd47d87-d369-4776-b1e5-c65cbe561090",
   "metadata": {},
   "outputs": [],
   "source": [
    "X_test_cv = v.transform(X_test)"
   ]
  },
  {
   "cell_type": "code",
   "execution_count": 22,
   "id": "bdf8e0ef-079b-4016-8eb7-a134f054bb97",
   "metadata": {},
   "outputs": [],
   "source": [
    "from sklearn.metrics import classification_report"
   ]
  },
  {
   "cell_type": "code",
   "execution_count": 23,
   "id": "b2cbda8f-df32-41f1-b461-ef10ddb3c359",
   "metadata": {},
   "outputs": [],
   "source": [
    "y_pred = model.predict(X_test_cv)"
   ]
  },
  {
   "cell_type": "code",
   "execution_count": 24,
   "id": "da384e3e-2d49-4b36-ac64-a2e0ab554ece",
   "metadata": {},
   "outputs": [
    {
     "name": "stdout",
     "output_type": "stream",
     "text": [
      "              precision    recall  f1-score   support\n",
      "\n",
      "           1       1.00      0.99      1.00       105\n",
      "           2       0.96      0.96      0.96       101\n",
      "           3       0.96      0.96      0.96        80\n",
      "           4       0.99      0.99      0.99        81\n",
      "           5       0.98      0.99      0.98        80\n",
      "\n",
      "    accuracy                           0.98       447\n",
      "   macro avg       0.98      0.98      0.98       447\n",
      "weighted avg       0.98      0.98      0.98       447\n",
      "\n"
     ]
    }
   ],
   "source": [
    "print(classification_report(Y_test,y_pred))"
   ]
  },
  {
   "cell_type": "code",
   "execution_count": 25,
   "id": "fba55e73-078a-4aa6-aa95-8165c64a66f6",
   "metadata": {},
   "outputs": [],
   "source": [
    "ch = [\"I love to watch and play \"]\n",
    "ch_cv = v.transform(ch)"
   ]
  },
  {
   "cell_type": "code",
   "execution_count": 26,
   "id": "12c6f7c8-1b18-4d46-822e-663dd212b233",
   "metadata": {},
   "outputs": [
    {
     "data": {
      "text/plain": [
       "array([4], dtype=int64)"
      ]
     },
     "execution_count": 26,
     "metadata": {},
     "output_type": "execute_result"
    }
   ],
   "source": [
    "model.predict(ch_cv)"
   ]
  },
  {
   "cell_type": "code",
   "execution_count": 27,
   "id": "897dd7f4-7ad7-451d-9a02-ad63eb9f7245",
   "metadata": {},
   "outputs": [],
   "source": [
    "test = pd.read_csv('learn-ai-bbc/BBC News Test.csv')"
   ]
  },
  {
   "cell_type": "code",
   "execution_count": 28,
   "id": "6121dc86-2879-461a-a2b1-e86acc6cb711",
   "metadata": {},
   "outputs": [],
   "source": [
    "test_cv = v.transform(test.Text)"
   ]
  },
  {
   "cell_type": "markdown",
   "id": "b0b8e05a-db70-4e04-a671-33febad4215c",
   "metadata": {},
   "source": []
  },
  {
   "cell_type": "code",
   "execution_count": 29,
   "id": "586e8bd7-35aa-44e8-adbb-cb8b75f86cb2",
   "metadata": {},
   "outputs": [],
   "source": [
    "sol = model.predict(test_cv)"
   ]
  },
  {
   "cell_type": "code",
   "execution_count": 30,
   "id": "46ca63b5-96a9-46f0-9155-c200d9c0af27",
   "metadata": {},
   "outputs": [
    {
     "data": {
      "text/plain": [
       "array([1, 5, 1, 2, 1, 1, 3, 3, 4, 2, 2, 5, 3, 5, 4, 1, 3, 5, 4, 4, 2, 3,\n",
       "       1, 2, 3, 1, 2, 1, 1, 2, 3, 5, 2, 2, 1, 1, 1, 2, 4, 4, 5, 3, 4, 5,\n",
       "       1, 5, 4, 2, 3, 2, 3, 2, 2, 2, 5, 3, 5, 5, 1, 5, 1, 4, 5, 3, 2, 4,\n",
       "       1, 5, 1, 1, 5, 1, 2, 3, 5, 1, 5, 5, 5, 4, 3, 1, 4, 4, 2, 4, 2, 4,\n",
       "       2, 5, 3, 3, 1, 5, 1, 1, 1, 1, 1, 1, 3, 1, 3, 4, 2, 1, 3, 1, 3, 4,\n",
       "       1, 2, 4, 1, 3, 1, 3, 1, 3, 2, 4, 2, 4, 4, 5, 1, 2, 4, 2, 4, 2, 3,\n",
       "       3, 5, 2, 2, 3, 5, 4, 1, 2, 5, 1, 4, 3, 1, 1, 4, 4, 5, 2, 5, 3, 4,\n",
       "       1, 1, 1, 1, 4, 5, 2, 5, 2, 5, 2, 5, 5, 5, 5, 3, 2, 3, 2, 2, 4, 3,\n",
       "       5, 2, 2, 5, 1, 3, 1, 3, 5, 5, 3, 2, 3, 5, 3, 2, 4, 1, 5, 5, 2, 5,\n",
       "       3, 2, 1, 3, 2, 4, 2, 2, 1, 5, 2, 1, 4, 4, 1, 4, 1, 5, 3, 4, 1, 4,\n",
       "       1, 4, 3, 2, 5, 4, 2, 3, 2, 5, 2, 1, 3, 3, 3, 3, 1, 2, 5, 3, 1, 3,\n",
       "       2, 1, 5, 2, 3, 2, 3, 2, 2, 1, 5, 3, 4, 5, 4, 5, 1, 1, 5, 1, 1, 1,\n",
       "       4, 1, 3, 5, 5, 1, 2, 1, 2, 1, 4, 2, 2, 4, 3, 2, 1, 1, 5, 1, 1, 4,\n",
       "       2, 1, 5, 3, 4, 2, 2, 3, 1, 4, 3, 2, 1, 1, 5, 4, 1, 2, 5, 2, 1, 3,\n",
       "       3, 4, 3, 4, 3, 2, 3, 5, 2, 1, 5, 4, 3, 1, 3, 3, 5, 3, 1, 5, 3, 5,\n",
       "       5, 4, 3, 5, 3, 2, 3, 1, 5, 4, 4, 2, 1, 5, 5, 4, 5, 2, 1, 4, 5, 2,\n",
       "       3, 5, 5, 3, 3, 1, 2, 5, 1, 3, 3, 2, 5, 1, 3, 2, 3, 3, 5, 4, 2, 2,\n",
       "       1, 1, 1, 5, 5, 3, 5, 3, 3, 2, 1, 1, 4, 4, 1, 5, 5, 1, 5, 4, 3, 5,\n",
       "       1, 2, 3, 4, 2, 5, 1, 3, 2, 2, 3, 5, 1, 4, 2, 5, 2, 5, 5, 1, 3, 2,\n",
       "       5, 1, 3, 2, 5, 5, 3, 5, 2, 3, 2, 4, 2, 4, 3, 4, 1, 2, 3, 2, 1, 4,\n",
       "       2, 4, 4, 1, 5, 4, 5, 2, 3, 4, 3, 3, 1, 2, 1, 3, 4, 4, 2, 2, 1, 3,\n",
       "       5, 5, 3, 2, 1, 1, 3, 1, 5, 2, 3, 1, 3, 5, 2, 3, 5, 3, 3, 4, 5, 1,\n",
       "       1, 3, 2, 5, 3, 1, 1, 4, 2, 4, 4, 2, 3, 1, 3, 5, 5, 2, 3, 1, 2, 1,\n",
       "       2, 3, 2, 1, 3, 5, 1, 3, 2, 5, 3, 1, 3, 4, 1, 3, 2, 2, 2, 5, 3, 3,\n",
       "       1, 2, 5, 5, 5, 1, 5, 3, 5, 2, 1, 5, 3, 2, 5, 5, 1, 5, 2, 1, 2, 2,\n",
       "       2, 3, 3, 4, 4, 4, 3, 5, 5, 3, 4, 2, 1, 1, 3, 4, 3, 1, 2, 2, 2, 4,\n",
       "       5, 1, 2, 3, 3, 5, 3, 1, 3, 2, 5, 2, 1, 1, 5, 1, 4, 5, 4, 5, 1, 3,\n",
       "       2, 5, 3, 3, 4, 3, 2, 2, 5, 2, 2, 2, 1, 4, 2, 1, 2, 1, 5, 2, 3, 1,\n",
       "       2, 1, 1, 4, 3, 5, 1, 2, 1, 2, 1, 1, 3, 5, 2, 5, 2, 1, 5, 2, 4, 2,\n",
       "       4, 1, 5, 2, 2, 2, 3, 1, 4, 5, 2, 1, 4, 2, 4, 2, 3, 1, 1, 2, 5, 1,\n",
       "       2, 2, 2, 4, 2, 4, 5, 1, 3, 5, 3, 5, 1, 5, 4, 2, 2, 4, 3, 1, 1, 1,\n",
       "       4, 5, 3, 4, 1, 1, 3, 5, 3, 4, 1, 4, 1, 5, 5, 1, 1, 2, 5, 4, 2, 5,\n",
       "       2, 2, 1, 4, 3, 4, 2, 3, 2, 3, 1, 5, 5, 3, 4, 2, 5, 4, 4, 3, 2, 2,\n",
       "       3, 3, 5, 1, 2, 4, 3, 2, 3], dtype=int64)"
      ]
     },
     "execution_count": 30,
     "metadata": {},
     "output_type": "execute_result"
    }
   ],
   "source": [
    "sol"
   ]
  },
  {
   "cell_type": "code",
   "execution_count": 31,
   "id": "66fbaac7-f5b8-4561-8a1d-e9cfd0dd7be0",
   "metadata": {},
   "outputs": [
    {
     "data": {
      "text/plain": [
       "735"
      ]
     },
     "execution_count": 31,
     "metadata": {},
     "output_type": "execute_result"
    }
   ],
   "source": [
    "len(sol)"
   ]
  },
  {
   "cell_type": "code",
   "execution_count": 32,
   "id": "026ffb32-f0ad-47d5-b311-72cb910f384b",
   "metadata": {},
   "outputs": [
    {
     "data": {
      "text/plain": [
       "735"
      ]
     },
     "execution_count": 32,
     "metadata": {},
     "output_type": "execute_result"
    }
   ],
   "source": [
    "len(test)"
   ]
  },
  {
   "cell_type": "code",
   "execution_count": 33,
   "id": "a78f7fa4-987e-425a-9aab-86f6b17f68c1",
   "metadata": {},
   "outputs": [],
   "source": [
    "submit = pd.read_csv('learn-ai-bbc/BBC News Sample Solution.csv')"
   ]
  },
  {
   "cell_type": "code",
   "execution_count": 34,
   "id": "f383c994-7521-406e-b8a2-e4364f0e7708",
   "metadata": {},
   "outputs": [],
   "source": [
    "submit['Category'] = sol"
   ]
  },
  {
   "cell_type": "code",
   "execution_count": 35,
   "id": "036f2041-bd55-41d9-a484-b3eaad238630",
   "metadata": {},
   "outputs": [
    {
     "data": {
      "text/html": [
       "<div>\n",
       "<style scoped>\n",
       "    .dataframe tbody tr th:only-of-type {\n",
       "        vertical-align: middle;\n",
       "    }\n",
       "\n",
       "    .dataframe tbody tr th {\n",
       "        vertical-align: top;\n",
       "    }\n",
       "\n",
       "    .dataframe thead th {\n",
       "        text-align: right;\n",
       "    }\n",
       "</style>\n",
       "<table border=\"1\" class=\"dataframe\">\n",
       "  <thead>\n",
       "    <tr style=\"text-align: right;\">\n",
       "      <th></th>\n",
       "      <th>ArticleId</th>\n",
       "      <th>Category</th>\n",
       "    </tr>\n",
       "  </thead>\n",
       "  <tbody>\n",
       "    <tr>\n",
       "      <th>0</th>\n",
       "      <td>1018</td>\n",
       "      <td>1</td>\n",
       "    </tr>\n",
       "    <tr>\n",
       "      <th>1</th>\n",
       "      <td>1319</td>\n",
       "      <td>5</td>\n",
       "    </tr>\n",
       "    <tr>\n",
       "      <th>2</th>\n",
       "      <td>1138</td>\n",
       "      <td>1</td>\n",
       "    </tr>\n",
       "    <tr>\n",
       "      <th>3</th>\n",
       "      <td>459</td>\n",
       "      <td>2</td>\n",
       "    </tr>\n",
       "    <tr>\n",
       "      <th>4</th>\n",
       "      <td>1020</td>\n",
       "      <td>1</td>\n",
       "    </tr>\n",
       "    <tr>\n",
       "      <th>...</th>\n",
       "      <td>...</td>\n",
       "      <td>...</td>\n",
       "    </tr>\n",
       "    <tr>\n",
       "      <th>730</th>\n",
       "      <td>1923</td>\n",
       "      <td>2</td>\n",
       "    </tr>\n",
       "    <tr>\n",
       "      <th>731</th>\n",
       "      <td>373</td>\n",
       "      <td>4</td>\n",
       "    </tr>\n",
       "    <tr>\n",
       "      <th>732</th>\n",
       "      <td>1704</td>\n",
       "      <td>3</td>\n",
       "    </tr>\n",
       "    <tr>\n",
       "      <th>733</th>\n",
       "      <td>206</td>\n",
       "      <td>2</td>\n",
       "    </tr>\n",
       "    <tr>\n",
       "      <th>734</th>\n",
       "      <td>471</td>\n",
       "      <td>3</td>\n",
       "    </tr>\n",
       "  </tbody>\n",
       "</table>\n",
       "<p>735 rows × 2 columns</p>\n",
       "</div>"
      ],
      "text/plain": [
       "     ArticleId  Category\n",
       "0         1018         1\n",
       "1         1319         5\n",
       "2         1138         1\n",
       "3          459         2\n",
       "4         1020         1\n",
       "..         ...       ...\n",
       "730       1923         2\n",
       "731        373         4\n",
       "732       1704         3\n",
       "733        206         2\n",
       "734        471         3\n",
       "\n",
       "[735 rows x 2 columns]"
      ]
     },
     "execution_count": 35,
     "metadata": {},
     "output_type": "execute_result"
    }
   ],
   "source": [
    "submit"
   ]
  },
  {
   "cell_type": "code",
   "execution_count": 36,
   "id": "beaa6001-3cc6-455b-983d-48dde6a59aab",
   "metadata": {},
   "outputs": [],
   "source": [
    "submit['Category']=submit['Category'].apply(lambda x: 'sport' if x==1 else 'business' if x==2 else 'politics' if x==3 else 'entertainment' if x==4 else 'tech')"
   ]
  },
  {
   "cell_type": "code",
   "execution_count": 37,
   "id": "63a11cde-3f14-4cc0-b834-fa16682e4822",
   "metadata": {},
   "outputs": [
    {
     "data": {
      "text/html": [
       "<div>\n",
       "<style scoped>\n",
       "    .dataframe tbody tr th:only-of-type {\n",
       "        vertical-align: middle;\n",
       "    }\n",
       "\n",
       "    .dataframe tbody tr th {\n",
       "        vertical-align: top;\n",
       "    }\n",
       "\n",
       "    .dataframe thead th {\n",
       "        text-align: right;\n",
       "    }\n",
       "</style>\n",
       "<table border=\"1\" class=\"dataframe\">\n",
       "  <thead>\n",
       "    <tr style=\"text-align: right;\">\n",
       "      <th></th>\n",
       "      <th>ArticleId</th>\n",
       "      <th>Category</th>\n",
       "    </tr>\n",
       "  </thead>\n",
       "  <tbody>\n",
       "    <tr>\n",
       "      <th>0</th>\n",
       "      <td>1018</td>\n",
       "      <td>sport</td>\n",
       "    </tr>\n",
       "    <tr>\n",
       "      <th>1</th>\n",
       "      <td>1319</td>\n",
       "      <td>tech</td>\n",
       "    </tr>\n",
       "    <tr>\n",
       "      <th>2</th>\n",
       "      <td>1138</td>\n",
       "      <td>sport</td>\n",
       "    </tr>\n",
       "    <tr>\n",
       "      <th>3</th>\n",
       "      <td>459</td>\n",
       "      <td>business</td>\n",
       "    </tr>\n",
       "    <tr>\n",
       "      <th>4</th>\n",
       "      <td>1020</td>\n",
       "      <td>sport</td>\n",
       "    </tr>\n",
       "    <tr>\n",
       "      <th>...</th>\n",
       "      <td>...</td>\n",
       "      <td>...</td>\n",
       "    </tr>\n",
       "    <tr>\n",
       "      <th>730</th>\n",
       "      <td>1923</td>\n",
       "      <td>business</td>\n",
       "    </tr>\n",
       "    <tr>\n",
       "      <th>731</th>\n",
       "      <td>373</td>\n",
       "      <td>entertainment</td>\n",
       "    </tr>\n",
       "    <tr>\n",
       "      <th>732</th>\n",
       "      <td>1704</td>\n",
       "      <td>politics</td>\n",
       "    </tr>\n",
       "    <tr>\n",
       "      <th>733</th>\n",
       "      <td>206</td>\n",
       "      <td>business</td>\n",
       "    </tr>\n",
       "    <tr>\n",
       "      <th>734</th>\n",
       "      <td>471</td>\n",
       "      <td>politics</td>\n",
       "    </tr>\n",
       "  </tbody>\n",
       "</table>\n",
       "<p>735 rows × 2 columns</p>\n",
       "</div>"
      ],
      "text/plain": [
       "     ArticleId       Category\n",
       "0         1018          sport\n",
       "1         1319           tech\n",
       "2         1138          sport\n",
       "3          459       business\n",
       "4         1020          sport\n",
       "..         ...            ...\n",
       "730       1923       business\n",
       "731        373  entertainment\n",
       "732       1704       politics\n",
       "733        206       business\n",
       "734        471       politics\n",
       "\n",
       "[735 rows x 2 columns]"
      ]
     },
     "execution_count": 37,
     "metadata": {},
     "output_type": "execute_result"
    }
   ],
   "source": [
    "submit"
   ]
  },
  {
   "cell_type": "code",
   "execution_count": 38,
   "id": "a0e3c45c-7cdc-45b8-9507-48a7ed200103",
   "metadata": {},
   "outputs": [],
   "source": [
    "submit.to_csv('submit.csv',index=False)"
   ]
  },
  {
   "cell_type": "code",
   "execution_count": null,
   "id": "017b8500-6da6-4e35-bc37-68d6253dfc8a",
   "metadata": {},
   "outputs": [],
   "source": []
  }
 ],
 "metadata": {
  "kernelspec": {
   "display_name": "Python 3 (ipykernel)",
   "language": "python",
   "name": "python3"
  },
  "language_info": {
   "codemirror_mode": {
    "name": "ipython",
    "version": 3
   },
   "file_extension": ".py",
   "mimetype": "text/x-python",
   "name": "python",
   "nbconvert_exporter": "python",
   "pygments_lexer": "ipython3",
   "version": "3.9.12"
  }
 },
 "nbformat": 4,
 "nbformat_minor": 5
}
